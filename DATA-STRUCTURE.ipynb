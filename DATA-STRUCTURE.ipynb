{
 "cells": [
  {
   "cell_type": "markdown",
   "id": "5068b4ec",
   "metadata": {},
   "source": [
    " #                                    Bubble sort by ID"
   ]
  },
  {
   "cell_type": "code",
   "execution_count": null,
   "id": "08c54bed",
   "metadata": {},
   "outputs": [],
   "source": [
    "\n",
    "students = [\n",
    "    {'id': 'DBU1500001', 'name': 'Dawit', 'dept': 'CS', 'cgpa': 3.34},\n",
    "    {'id': 'DBU1500002', 'name': 'Abrham', 'dept': 'CS', 'cgpa': 3.12},\n",
    "    {'id': 'DBU1500003', 'name': 'Soliana', 'dept': 'CS', 'cgpa': 2.74},\n",
    "    {'id': 'DBU1500004', 'name': 'Rahel', 'dept': 'CS', 'cgpa': 3.1},\n",
    "    {'id': 'DBU1500005', 'name': 'Martha', 'dept': 'CS', 'cgpa': 3.5},\n",
    "    {'id': 'DBU1500006', 'name': 'Yonas', 'dept': 'CS', 'cgpa': 3.8},\n",
    "    {'id': 'DBU1500007', 'name': 'Bethel', 'dept': 'CS', 'cgpa': 3.0},\n",
    "    {'id': 'DBU1500008', 'name': 'Samuel', 'dept': 'CS', 'cgpa': 2.9},\n",
    "    {'id': 'DBU1500009', 'name': 'Helen', 'dept': 'CS', 'cgpa': 3.6},\n",
    "    {'id': 'DBU1500010', 'name': 'Daniel', 'dept': 'CS', 'cgpa': 3.2}\n",
    "]\n",
    "\n",
    "\n",
    "def bubbleSortID(students):\n",
    "    n = len(students)\n",
    "    for i in range(n):\n",
    "        for j in range(0, n-i-1):\n",
    "            if students[j]['id'] > students[j+1]['id']:\n",
    "                students[j], students[j+1] = students[j+1], students[j]\n",
    "\n",
    "\n",
    "bubbleSortID(students)        \n",
    "\n",
    "print(\"Sorted by ID (Bubble Sort):\")\n",
    "for i in students:\n",
    "    print(i)  "
   ]
  },
  {
   "cell_type": "markdown",
   "id": "c15bd1b9",
   "metadata": {},
   "source": [
    "#    Insertion sort by Name"
   ]
  },
  {
   "cell_type": "code",
   "execution_count": null,
   "id": "e49d9bc2",
   "metadata": {},
   "outputs": [],
   "source": [
    "\n",
    "students = [\n",
    "    {'id': 'DBU1500001', 'name': 'Dawit', 'dept': 'DS', 'cgpa': 3.34},\n",
    "    {'id': 'DBU1500002', 'name': 'Abrham', 'dept': 'CS', 'cgpa': 3.12},\n",
    "    {'id': 'DBU1500003', 'name': 'Soliana', 'dept': 'DS', 'cgpa': 2.74},\n",
    "    {'id': 'DBU1500004', 'name': 'Rahel', 'dept': 'CS', 'cgpa': 3.1},\n",
    "    {'id': 'DBU1500005', 'name': 'Martha', 'dept': 'IT', 'cgpa': 3.5},\n",
    "    {'id': 'DBU1500006', 'name': 'Yonas', 'dept': 'DS', 'cgpa': 3.8},\n",
    "    {'id': 'DBU1500007', 'name': 'Bethel', 'dept': 'CS', 'cgpa': 3.0},\n",
    "    {'id': 'DBU1500008', 'name': 'Samuel', 'dept': 'IT', 'cgpa': 2.9},\n",
    "    {'id': 'DBU1500009', 'name': 'Helen', 'dept': 'DS', 'cgpa': 3.6},\n",
    "    {'id': 'DBU1500010', 'name': 'Daniel', 'dept': 'CS', 'cgpa': 3.2}\n",
    "]\n",
    "\n",
    "\n",
    "def insertionSortName(students):\n",
    "    for i in range(1, len(students)):\n",
    "        key = students[i]\n",
    "        j = i - 1\n",
    "        while j >= 0 and key['name'] < students[j]['name']:\n",
    "            students[j + 1] = students[j]\n",
    "            j -= 1\n",
    "        students[j + 1] = key\n",
    "\n",
    "insertionSortName(students)\n",
    "print(\"\\nSorted by Name (Insertion Sort):\")\n",
    "for i in students:\n",
    "    print(i)        "
   ]
  },
  {
   "cell_type": "markdown",
   "id": "7ca4bcd4",
   "metadata": {},
   "source": [
    "\n",
    "# Selection sort by CGPA (Descending order)"
   ]
  },
  {
   "cell_type": "code",
   "execution_count": null,
   "id": "23ae6d71",
   "metadata": {},
   "outputs": [],
   "source": [
    "students = [\n",
    "    {'id': 'DBU1500001', 'name': 'Dawit', 'dept': 'DS', 'cgpa': 3.34},\n",
    "    {'id': 'DBU1500002', 'name': 'Abrham', 'dept': 'CS', 'cgpa': 3.12},\n",
    "    {'id': 'DBU1500003', 'name': 'Soliana', 'dept': 'DS', 'cgpa': 2.74},\n",
    "    {'id': 'DBU1500004', 'name': 'Rahel', 'dept': 'CS', 'cgpa': 3.1},\n",
    "    {'id': 'DBU1500005', 'name': 'Martha', 'dept': 'IT', 'cgpa': 3.5},\n",
    "    {'id': 'DBU1500006', 'name': 'Yonas', 'dept': 'DS', 'cgpa': 3.8},\n",
    "    {'id': 'DBU1500007', 'name': 'Bethel', 'dept': 'CS', 'cgpa': 3.0},\n",
    "    {'id': 'DBU1500008', 'name': 'Samuel', 'dept': 'IT', 'cgpa': 2.9},\n",
    "    {'id': 'DBU1500009', 'name': 'Helen', 'dept': 'DS', 'cgpa': 3.6},\n",
    "    {'id': 'DBU1500010', 'name': 'Daniel', 'dept': 'CS', 'cgpa': 3.2}\n",
    "]\n",
    "\n",
    "def selectionSortCgpa(students):\n",
    "    n = len(students)\n",
    "    for i in range(n):\n",
    "        max_idx = i\n",
    "        for j in range(i+1, n):\n",
    "            if students[j]['cgpa'] > students[max_idx]['cgpa']:\n",
    "                max_idx = j\n",
    "        students[i], students[max_idx] = students[max_idx], students[i]\n",
    "\n",
    "\n",
    "selectionSortCgpa(students)\n",
    "print(\"\\nSorted by CGPA (Selection Sort):\")\n",
    "for i in students:\n",
    "    print(i)  \n"
   ]
  },
  {
   "cell_type": "markdown",
   "id": "9fa8b791",
   "metadata": {},
   "source": [
    "# Analysis & Comparison of Sorting Algorithms"
   ]
  },
  {
   "cell_type": "markdown",
   "id": "0c3c90bb",
   "metadata": {},
   "source": [
    "##### Bubble Sort (by IDnnnnnnnnnnnnnnnnnnnnn):\n",
    "##### Easy to understand but slow. It checks and swaps items a lot, so it’s not great for big lists.\n",
    "\n",
    "##### Insertion Sort (by Name):\n",
    "##### Works well if the data is nearly sorted. It's simple and keeps the original order of names, but still slow for large lists.\n",
    "\n",
    "##### Selection Sort (by CGPA):\n",
    "##### Picks the highest CGPA each time. Fewer swaps than bubble sort, but also not efficient for large datasets. "
   ]
  }
 ],
 "metadata": {
  "language_info": {
   "name": "python"
  }
 },
 "nbformat": 4,
 "nbformat_minor": 5
}
